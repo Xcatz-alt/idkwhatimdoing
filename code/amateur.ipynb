{
 "cells": [
  {
   "cell_type": "code",
   "execution_count": 15,
   "metadata": {},
   "outputs": [],
   "source": [
    "import pandas as pd\n",
    "from collections import OrderedDict\n",
    "from datetime import date"
   ]
  },
  {
   "cell_type": "code",
   "execution_count": 19,
   "metadata": {},
   "outputs": [],
   "source": [
    "data = [{'nama': 'manusia',  'nim': '19.01.4295',  'mata kuliah': 'ngegame',  'hari': 'tiap hari'},\n",
    "        {'nama': 'hewan',  'nih': '19.01.4294',  'mata berburu': 'cari makan',  'hari': 'tiap hari'},\n",
    "        {'nama': 'alien',  'nia': '19.01.4293',  'mata belajar': 'explor planet',  'hari': 'tiap hari' }]"
   ]
  },
  {
   "cell_type": "code",
   "execution_count": 22,
   "metadata": {},
   "outputs": [],
   "source": [
    "df = pd.DataFrame(data)"
   ]
  },
  {
   "cell_type": "code",
   "execution_count": 23,
   "metadata": {},
   "outputs": [
    {
     "name": "stdout",
     "output_type": "stream",
     "text": [
      "        hari   mata belajar mata berburu mata kuliah     nama         nia  \\\n",
      "0  tiap hari            NaN          NaN     ngegame  manusia         NaN   \n",
      "1  tiap hari            NaN   cari makan         NaN    hewan         NaN   \n",
      "2  tiap hari  explor planet          NaN         NaN    alien  19.01.4293   \n",
      "\n",
      "          nih         nim  \n",
      "0         NaN  19.01.4295  \n",
      "1  19.01.4294         NaN  \n",
      "2         NaN         NaN  \n"
     ]
    }
   ],
   "source": [
    "print(df)"
   ]
  },
  {
   "cell_type": "code",
   "execution_count": null,
   "metadata": {},
   "outputs": [],
   "source": []
  }
 ],
 "metadata": {
  "kernelspec": {
   "display_name": "Python 2",
   "language": "python",
   "name": "python2"
  },
  "language_info": {
   "codemirror_mode": {
    "name": "ipython",
    "version": 2
   },
   "file_extension": ".py",
   "mimetype": "text/x-python",
   "name": "python",
   "nbconvert_exporter": "python",
   "pygments_lexer": "ipython2",
   "version": "2.7.16+"
  }
 },
 "nbformat": 4,
 "nbformat_minor": 2
}
